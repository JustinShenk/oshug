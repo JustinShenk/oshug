{
 "cells": [
  {
   "cell_type": "markdown",
   "metadata": {
    "slideshow": {
     "slide_type": "slide"
    }
   },
   "source": [
    "# Intel® Movidius™  Neural Compute Stick Workshop\n",
    "Open Source Hardware User Group, BCS London, 22 February 2018\n",
    "\n",
    "Justin Shenk"
   ]
  },
  {
   "cell_type": "markdown",
   "metadata": {
    "slideshow": {
     "slide_type": "slide"
    }
   },
   "source": [
    "9:00 - 9:15 What you will learn today\n",
    " - Walkthrough / Excercise / Debrief\n",
    "\n",
    "9:15 - 10:00 Introduction to NCS technology\n",
    " - Movidius VPU Technology\n",
    " - Hardware and software components of NCS\n",
    " - Workflow of network profiling and application development using NCS.\n",
    " - Detection/Classification models\n",
    " - Advanced functionalities\n",
    " - Hands-on with advanced demos and sample codes built using NC SDK’s API framework for Caffe and TensorFlow\n",
    "\n",
    "10:00 - 11:00 Train a digit classifier with TensorFlow\n",
    "\n",
    "11:00 - 11:10 Break\n",
    "\n",
    "11:10 - 12:00 Walk-through fine-tuning InceptionV1 model - https://github.com/JustinShenk/fine-tuning-ncs"
   ]
  },
  {
   "cell_type": "markdown",
   "metadata": {},
   "source": [
    "12:00 - 12:30 Lunch\n",
    "    \n",
    "12:30 - 2:30 Continue end-to-end training and testing on stick\n",
    "\n",
    "2:30 - 2:40 Break\n",
    "\n",
    "2:40 - 4:40 Continue end-to-end training and testing on stick\n",
    "\n",
    "4:40 - 5:00 Conclusion / Further exercises"
   ]
  },
  {
   "cell_type": "markdown",
   "metadata": {
    "slideshow": {
     "slide_type": "slide"
    }
   },
   "source": [
    "## About the Speaker\n",
    "\n",
    "Justin Shenk, github: [@justinshenk](www.github.com/justinshenk), linkedin: [/justinshenk](www.linkedin.com/in/justinshenk)\n",
    "\n",
    "- Master student at University of Osnabrück, Germany\n",
    "\n",
    "- Writing thesis on deep learning with Peltarion, Stockholm\n",
    "\n",
    "- Intel Software Innovator"
   ]
  },
  {
   "cell_type": "markdown",
   "metadata": {
    "slideshow": {
     "slide_type": "slide"
    }
   },
   "source": [
    "## What you will learn today\n",
    "\n",
    "- NCS hardware and software\n",
    "- Train a neural network to classify digits with TensorFlow in Python\n",
    "- Classify images with NCS"
   ]
  },
  {
   "cell_type": "markdown",
   "metadata": {
    "slideshow": {
     "slide_type": "slide"
    }
   },
   "source": [
    "## Setup software\n",
    "\n",
    "- `git clone https://github.com/movidius/ncsdk`\n",
    "- `git clone https://github.com/movidius/ncappzoo`\n",
    "- install opencv from source for cam-based apps:\n",
    "  - `cd ncappzoo/street-cam`\n",
    "  - `bash install_opencv_from_source.sh`\\\n",
    "  - wait ~1 hour"
   ]
  },
  {
   "cell_type": "markdown",
   "metadata": {},
   "source": [
    "## Walkthroughs\n",
    "- Deploying custom caffe models - https://movidius.github.io/blog/deploying-custom-caffe-models/\n",
    "- Webinar - https://software.seek.intel.com/NeuralComputeStickWebinar_Reg?registration_source=IDZ"
   ]
  },
  {
   "cell_type": "code",
   "execution_count": null,
   "metadata": {
    "collapsed": true
   },
   "outputs": [],
   "source": []
  }
 ],
 "metadata": {
  "celltoolbar": "Slideshow",
  "kernelspec": {
   "display_name": "Python (tf1.3)",
   "language": "python",
   "name": "tf1.3"
  },
  "language_info": {
   "codemirror_mode": {
    "name": "ipython",
    "version": 3
   },
   "file_extension": ".py",
   "mimetype": "text/x-python",
   "name": "python",
   "nbconvert_exporter": "python",
   "pygments_lexer": "ipython3",
   "version": "3.5.4"
  }
 },
 "nbformat": 4,
 "nbformat_minor": 2
}
