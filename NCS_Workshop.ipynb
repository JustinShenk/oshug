{
 "cells": [
  {
   "cell_type": "markdown",
   "metadata": {
    "slideshow": {
     "slide_type": "slide"
    }
   },
   "source": [
    "# Intel® Movidius™  Neural Compute Stick Workshop\n",
    "Open Source Hardware User Group, BCS London, 22 February 2018\n",
    "\n",
    "Justin Shenk"
   ]
  },
  {
   "cell_type": "markdown",
   "metadata": {
    "slideshow": {
     "slide_type": "slide"
    }
   },
   "source": [
    "9:00 - 9:15 Speaker introduction\n",
    "\n",
    "9:15 - 10:00 Introduction to NCS technology\n",
    " - Movidius VPU Technology\n",
    " - Hardware and software components of NCS\n",
    " - Workflow of network profiling and application development using NCS.\n",
    " - Detection/Classification models\n",
    " - Advanced functionalities\n",
    " - Hands-on with advanced demos and sample codes built using NC SDK’s API framework for Caffe and TensorFlow\n",
    "\n",
    "10:00 - 11:00 Training a digit classifier with TensorFlow using AI DevCloud and other cloud computing platforms\n",
    "\n",
    "11:00 - 12:00 Walk through fine-tuning InceptionV1 model - https://github.com/JustinShenk/fine-tuning-ncs"
   ]
  },
  {
   "cell_type": "markdown",
   "metadata": {
    "slideshow": {
     "slide_type": "slide"
    }
   },
   "source": [
    "## Speaker Introduction\n",
    "\n",
    "Justin Shenk, github: [@justinshenk](www.github.com/justinshenk), linkedin: [/justinshenk](www.linkedin.com/in/justinshenk)\n",
    "\n",
    "- Master student at University of Osnabrück, Germany\n",
    "\n",
    "- Writing thesis on deep learning with Peltarion, Stockholm"
   ]
  },
  {
   "cell_type": "code",
   "execution_count": null,
   "metadata": {},
   "outputs": [],
   "source": []
  }
 ],
 "metadata": {
  "celltoolbar": "Slideshow",
  "kernelspec": {
   "display_name": "Python 3 (Intel, 2018)",
   "language": "python",
   "name": "intel_distribution_of_python_3_2018"
  },
  "language_info": {
   "codemirror_mode": {
    "name": "ipython",
    "version": 3
   },
   "file_extension": ".py",
   "mimetype": "text/x-python",
   "name": "python",
   "nbconvert_exporter": "python",
   "pygments_lexer": "ipython3",
   "version": "3.6.2"
  }
 },
 "nbformat": 4,
 "nbformat_minor": 2
}
